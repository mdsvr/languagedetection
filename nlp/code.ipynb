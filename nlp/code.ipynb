{
 "cells": [
  {
   "cell_type": "code",
   "execution_count": 5,
   "metadata": {},
   "outputs": [
    {
     "name": "stdout",
     "output_type": "stream",
     "text": [
      "Defaulting to user installation because normal site-packages is not writeable\n",
      "Requirement already satisfied: xgboost in c:\\users\\vardh\\appdata\\roaming\\python\\python311\\site-packages (2.0.3)\n",
      "Requirement already satisfied: numpy in c:\\programdata\\anaconda3\\lib\\site-packages (from xgboost) (1.24.3)\n",
      "Requirement already satisfied: scipy in c:\\programdata\\anaconda3\\lib\\site-packages (from xgboost) (1.11.1)\n",
      "Note: you may need to restart the kernel to use updated packages.\n"
     ]
    }
   ],
   "source": [
    "pip install xgboost\n"
   ]
  },
  {
   "cell_type": "code",
   "execution_count": 1,
   "metadata": {},
   "outputs": [],
   "source": [
    "# Importing packages and data\n",
    "from time import time\n",
    "import numpy as np\n",
    "import pandas as pd\n",
    "from sklearn.model_selection import train_test_split\n",
    "from sklearn.feature_extraction.text import TfidfVectorizer\n",
    "from sklearn.svm import LinearSVC\n",
    "from sklearn.tree import DecisionTreeClassifier\n",
    "from sklearn.ensemble import (RandomForestClassifier,\n",
    "                              AdaBoostClassifier,\n",
    "                              GradientBoostingClassifier,\n",
    "                              HistGradientBoostingClassifier)\n",
    "from xgboost import XGBClassifier\n",
    "from lightgbm import LGBMClassifier\n",
    "from catboost import CatBoostClassifier\n",
    "import matplotlib.pyplot as plt\n",
    "\n"
   ]
  },
  {
   "cell_type": "code",
   "execution_count": null,
   "metadata": {},
   "outputs": [
    {
     "name": "stderr",
     "output_type": "stream",
     "text": [
      "C:\\ProgramData\\anaconda3\\Lib\\site-packages\\sklearn\\ensemble\\_base.py:156: FutureWarning: `base_estimator` was renamed to `estimator` in version 1.2 and will be removed in 1.4.\n",
      "  warnings.warn(\n"
     ]
    }
   ],
   "source": [
    "# Load the data\n",
    "df = pd.read_csv('Language Detection.csv')\n",
    "\n",
    "# Preprocessing our data\n",
    "tfidf = TfidfVectorizer(max_features=2000)\n",
    "X = tfidf.fit_transform(df['Text']).toarray()\n",
    "y = df['Language']\n",
    "X_train, X_test, y_train, y_test = train_test_split(X, y, test_size=0.2, random_state=42)\n",
    "\n",
    "# Setting up our results dataframe\n",
    "df_results = pd.DataFrame(columns=['accuracy', 'run_time'])\n",
    "\n",
    "# Setting Up Our Candidate Models\n",
    "models = [\n",
    "    DecisionTreeClassifier(max_depth=12, random_state=1234),\n",
    "    RandomForestClassifier(n_estimators=500, max_features=0.06, n_jobs=6, random_state=1234),\n",
    "    AdaBoostClassifier(base_estimator=DecisionTreeClassifier(max_depth=1, max_features=0.06),\n",
    "                       n_estimators=500, learning_rate=0.5, random_state=1234),\n",
    "    GradientBoostingClassifier(n_estimators=2000, subsample=0.67, max_features=0.06,\n",
    "                                validation_fraction=0.1, n_iter_no_change=15, verbose=0, random_state=1234),\n",
    "    HistGradientBoostingClassifier(max_iter=2000, validation_fraction=0.1, n_iter_no_change=15,\n",
    "                                    verbose=0, random_state=1234),\n",
    "    XGBClassifier(n_estimators=2000, tree_method='hist', subsample=0.67, colsample_level=0.06,\n",
    "                  verbose=0, n_jobs=6, random_state=1234),\n",
    "    LGBMClassifier(n_estimators=2000, feature_fraction=0.06, bagging_fraction=0.67,\n",
    "                   bagging_freq=1, verbose=0, n_jobs=6, random_state=1234),\n",
    "    CatBoostClassifier(n_estimators=2000, colsample_bylevel=0.06, max_leaves=31,\n",
    "                       subsample=0.67, verbose=0, thread_count=6, random_state=1234),\n",
    "]\n",
    "\n",
    "model_names = [model.__class__.__name__ for model in models]\n",
    "\n",
    "es_models = ['XGBClassifier', 'LGBMClassifier', 'CatBoostClassifier']\n",
    "\n",
    "# Training and Evaluation\n",
    "for model, name in zip(models, model_names):\n",
    "    start_time = time()\n",
    "    if name in es_models:\n",
    "        model.fit(X_train, y_train)\n",
    "    else:\n",
    "        model.fit(X_train, y_train)\n",
    "    run_time = time() - start_time\n",
    "    accuracy = model.score(X_test, y_test)\n",
    "    df_results.loc[name] = [accuracy, run_time]\n",
    "\n",
    "# Visualizing the Results\n",
    "plt.figure(figsize=(10, 6))\n",
    "df_results['accuracy'].plot(kind='bar', color='skyblue')\n",
    "plt.title('Test Accuracy of Different Models')\n",
    "plt.ylabel('Accuracy')\n",
    "plt.xlabel('Model')\n",
    "plt.xticks(rotation=45, ha='right')\n",
    "plt.tight_layout()\n",
    "plt.show()\n",
    "\n",
    "plt.figure(figsize=(10, 6))\n",
    "df_results['run_time'].plot(kind='bar', color='lightgreen')\n",
    "plt.title('Run Time of Different Models')\n",
    "plt.ylabel('Run Time (seconds)')\n",
    "plt.xlabel('Model')\n",
    "plt.xticks(rotation=45, ha='right')\n",
    "plt.tight_layout()\n",
    "plt.show()\n",
    "\n",
    "# User interaction for prediction\n",
    "while True:\n",
    "    user_input = input(\"Enter text to predict its language (type 'exit' to quit): \")\n",
    "    if user_input.lower() == 'exit':\n",
    "        print(\"Exiting...\")\n",
    "        break\n",
    "    else:\n",
    "        text_vectorized = tfidf.transform([user_input]).toarray()\n",
    "        predictions = {}\n",
    "        for model, name in zip(models, model_names):\n",
    "            predictions[name] = model.predict(text_vectorized)[0]\n",
    "        print(\"Predictions:\")\n",
    "        for model_name, prediction in predictions.items():\n",
    "            print(f\"{model_name}: {prediction}\")\n"
   ]
  },
  {
   "cell_type": "code",
   "execution_count": null,
   "metadata": {},
   "outputs": [],
   "source": []
  }
 ],
 "metadata": {
  "colab": {
   "provenance": []
  },
  "kernelspec": {
   "display_name": "Python 3 (ipykernel)",
   "language": "python",
   "name": "python3"
  },
  "language_info": {
   "codemirror_mode": {
    "name": "ipython",
    "version": 3
   },
   "file_extension": ".py",
   "mimetype": "text/x-python",
   "name": "python",
   "nbconvert_exporter": "python",
   "pygments_lexer": "ipython3",
   "version": "3.11.5"
  }
 },
 "nbformat": 4,
 "nbformat_minor": 4
}
